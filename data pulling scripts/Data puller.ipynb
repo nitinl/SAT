{
 "metadata": {
  "name": "",
  "signature": "sha256:8712d78a192338343ca29c7c26dbff4c40a167c3162fa34b18fb5cec36aa1ca6"
 },
 "nbformat": 3,
 "nbformat_minor": 0,
 "worksheets": [
  {
   "cells": [
    {
     "cell_type": "code",
     "collapsed": false,
     "input": [
      "import urllib2\n",
      "import time\n",
      "import datetime\n",
      "\n",
      "# pulls historic stock price data from yahoo finance api\n",
      "def pullData(stock, extension='.txt', timeRange='1y'):\n",
      "    try:\n",
      "        print 'Currently pulling', stock\n",
      "        print str(datetime.datetime.fromtimestamp(time.time()).strftime('%Y-%m-%d %H:%M:%S'))\n",
      "        \n",
      "        saveFileName = stock+extension\n",
      "        try:\n",
      "            readExistingData = open(saveFileName, 'r').read()\n",
      "            splitExisting = readExistingData.split('\\n')\n",
      "            mostRecentLine = splitExisting[-2]\n",
      "            lastUnix = mostRecentLine.split(',')[0]\n",
      "        except Exception, e:\n",
      "            print str(e)\n",
      "            time.sleep(1)\n",
      "            lastUnix = 0\n",
      "        \n",
      "        urlToVisit = 'http://chartapi.finance.yahoo.com/instrument/1.0/'+stock+'/chartdata;type=quote;range='+timeRange+'/csv'\n",
      "        sourceCode = urllib2.urlopen(urlToVisit).read()\n",
      "        splitSource = sourceCode.split('\\n')\n",
      "        \n",
      "        saveFile = open(saveFileName,'a')\n",
      "        \n",
      "        for eachLine in splitSource:\n",
      "            if 'values' not in eachLine:\n",
      "                splitLine = eachLine.split(',')\n",
      "                if len(splitLine) == 6:\n",
      "                    if int (splitLine[0]) > int(lastUnix):\n",
      "                        lineToWrite = eachLine + '\\n'\n",
      "                        saveFile.write(lineToWrite)\n",
      "        \n",
      "        saveFile.close()\n",
      "        \n",
      "        print 'Pulled',stock\n",
      "        \n",
      "    except Exception, e:\n",
      "        print 'main loop', str(e)\n",
      "        \n",
      "# example usage:\n",
      "pullData('INFY.NS', '.txt')"
     ],
     "language": "python",
     "metadata": {},
     "outputs": [
      {
       "output_type": "stream",
       "stream": "stdout",
       "text": [
        "Currently pulling INFY.NS\n",
        "2015-08-26 21:19:22\n",
        "[Errno 2] No such file or directory: 'INFY.NS.txt'\n",
        "Pulled"
       ]
      },
      {
       "output_type": "stream",
       "stream": "stdout",
       "text": [
        " INFY.NS\n"
       ]
      }
     ],
     "prompt_number": 1
    },
    {
     "cell_type": "code",
     "collapsed": false,
     "input": [],
     "language": "python",
     "metadata": {},
     "outputs": [],
     "prompt_number": 5
    },
    {
     "cell_type": "code",
     "collapsed": false,
     "input": [],
     "language": "python",
     "metadata": {},
     "outputs": []
    }
   ],
   "metadata": {}
  }
 ]
}