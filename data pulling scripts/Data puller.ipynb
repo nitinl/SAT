{
 "metadata": {
  "name": "",
  "signature": "sha256:9efbd4ca930f6ae6b4bc59588256e89cabe5dceb14515e9b58eb6d0602b493aa"
 },
 "nbformat": 3,
 "nbformat_minor": 0,
 "worksheets": [
  {
   "cells": [
    {
     "cell_type": "code",
     "collapsed": false,
     "input": [
      "import urllib2\n",
      "import time\n",
      "import datetime\n",
      "\n",
      "# pulls historic stock price data from yahoo finance api\n",
      "def pullData(stock, extension='.txt', timeRange='1y'):\n",
      "    try:\n",
      "        print 'Currently pulling', stock\n",
      "        print str(datetime.datetime.fromtimestamp(time.time()).strftime('%Y-%m-%d %H:%M:%S'))\n",
      "        \n",
      "        saveFileName = stock+timeRange+extension\n",
      "        try:\n",
      "            readExistingData = open(saveFileName, 'r').read()\n",
      "            splitExisting = readExistingData.split('\\n')\n",
      "            mostRecentLine = splitExisting[-2]\n",
      "            lastUnix = mostRecentLine.split(',')[0]\n",
      "        except Exception, e:\n",
      "            print str(e)\n",
      "            #time.sleep(1)\n",
      "            lastUnix = 0\n",
      "        \n",
      "        urlToVisit = 'http://chartapi.finance.yahoo.com/instrument/1.0/'+stock+'/chartdata;type=quote;range='+timeRange+'/csv'\n",
      "        sourceCode = urllib2.urlopen(urlToVisit).read()\n",
      "        splitSource = sourceCode.split('\\n')\n",
      "        \n",
      "        saveFile = open(saveFileName,'a')\n",
      "        \n",
      "        for eachLine in splitSource:\n",
      "            if 'values' not in eachLine:\n",
      "                splitLine = eachLine.split(',')\n",
      "                if len(splitLine) == 6 and splitLine[0][0] != 'l':\n",
      "                    if int (splitLine[0]) > int(lastUnix):\n",
      "                        lineToWrite = eachLine + '\\n'\n",
      "                        saveFile.write(lineToWrite)\n",
      "        \n",
      "        saveFile.close()\n",
      "        \n",
      "        print 'Pulled',stock\n",
      "        \n",
      "    except Exception, e:\n",
      "        print 'main loop', str(e)\n",
      "        \n",
      "# example usage:\n",
      "#pullData('INFY.NS', '.txt')"
     ],
     "language": "python",
     "metadata": {},
     "outputs": [
      {
       "metadata": {},
       "output_type": "pyout",
       "prompt_number": 16,
       "text": [
        "'\\nStocks to work on:\\nNSE\\nbanks:\\nsbi axisbank icici\\n\\nit:\\ntcs infosys techmahindra wipro\\n\\npharma:\\nsun pharma glen pharma\\n\\ntelcom:\\nbharti idea\\n\\nconsumer goods:\\nhindustan unilever\\n'"
       ]
      }
     ],
     "prompt_number": 16
    },
    {
     "cell_type": "code",
     "collapsed": false,
     "input": [
      "'''\n",
      "Stocks to work on:\n",
      "NSE\n",
      "banks:\n",
      "sbi axisbank icici\n",
      "\n",
      "it:\n",
      "tcs infosys techmahindra wipro\n",
      "\n",
      "pharma:\n",
      "sun pharma glen pharma\n",
      "\n",
      "telcom:\n",
      "idea bharti(not available on yahoo api)'BHARTIARTL.NS'\n",
      "\n",
      "consumer goods:\n",
      "hindustan unilever(not available on yahoo api) 'HINDUNILVR.NS'\n",
      "'''\n",
      "# to create database of all stock prices with appropriate ranges for use\n",
      "stocks = ['SBIN.NS', 'AXISBANK.NS', 'ICICIBANK.NS', 'TCS.NS', 'INFY.NS', 'WIPRO.NS', 'TECHM.NS', 'SUNPHARMA.NS', 'GLENMARK.NS',\n",
      "          'IDEA.NS']\n",
      "timeranges = ['1d', '1m', '3m', '6m', '1y']\n",
      "\n",
      "for s in stocks:\n",
      "    for t in timeranges:\n",
      "        pullData(s, '.txt', t)"
     ],
     "language": "python",
     "metadata": {},
     "outputs": []
    }
   ],
   "metadata": {}
  }
 ]
}